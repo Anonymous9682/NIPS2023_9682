{
 "cells": [
  {
   "cell_type": "code",
   "execution_count": 1,
   "metadata": {},
   "outputs": [],
   "source": [
    "# We give an example notebook on how to extract weight vector via NMF and compute inner product"
   ]
  },
  {
   "cell_type": "code",
   "execution_count": 8,
   "metadata": {},
   "outputs": [],
   "source": [
    "import matplotlib.pyplot as plt\n",
    "import seaborn as sns\n",
    "import pandas as pd\n",
    "from sklearn.decomposition import NMF\n",
    "import torch.nn as nn\n",
    "import cv2\n",
    "import numpy as np\n",
    "from torchvision.utils import save_image\n",
    "from tqdm import tqdm\n",
    "import matplotlib.image \n",
    "import numpy as np\n",
    "import cv2\n",
    "from mt_model_gpu_grad import MtModel\n",
    "from kernels_gpu_grad import *\n",
    "model1 = torch.load('2023_04_08 04_33 FOLD 0 MTMK L1.pt')\n",
    "model1 = model1.to('cuda')\n",
    "for kernel in model1.kernel_list:\n",
    "    kernel.kernel = kernel.kernel.cpu()"
   ]
  },
  {
   "cell_type": "code",
   "execution_count": 9,
   "metadata": {},
   "outputs": [],
   "source": [
    "# we use heart, which corresponds to index 2\n",
    "alpha = model1.alpha[2].cpu()\n",
    "X_train = model1.X_train[2].cpu()\n",
    "Y_train= model1.Y_train[2].cpu()\n",
    "phecodes = list(model1.train_phecode[2])"
   ]
  },
  {
   "cell_type": "code",
   "execution_count": 10,
   "metadata": {},
   "outputs": [],
   "source": [
    "# get weight vector\n",
    "# we empirically find that alpha is parallel to y, so we directly use abs instead of element-wise division as written in the paper\n",
    "model = NMF(n_components=1, init='random', random_state=53)\n",
    "wv = model.fit_transform(torch.abs(alpha).numpy())\n",
    "wv = torch.from_numpy(wv).float()"
   ]
  },
  {
   "cell_type": "code",
   "execution_count": 11,
   "metadata": {},
   "outputs": [
    {
     "data": {
      "text/plain": [
       "tensor([[0.0000e+00],\n",
       "        [0.0000e+00],\n",
       "        [0.0000e+00],\n",
       "        [0.0000e+00],\n",
       "        [0.0000e+00],\n",
       "        [0.0000e+00],\n",
       "        [1.0332e+00],\n",
       "        [1.3464e-02],\n",
       "        [1.1906e-06],\n",
       "        [0.0000e+00],\n",
       "        [0.0000e+00],\n",
       "        [0.0000e+00],\n",
       "        [0.0000e+00],\n",
       "        [0.0000e+00],\n",
       "        [0.0000e+00],\n",
       "        [0.0000e+00]])"
      ]
     },
     "execution_count": 11,
     "metadata": {},
     "output_type": "execute_result"
    }
   ],
   "source": [
    "wv"
   ]
  },
  {
   "cell_type": "code",
   "execution_count": 12,
   "metadata": {},
   "outputs": [],
   "source": [
    "Kernel_matrices = []\n",
    "for i in range(len(model1.kernel_list)):\n",
    "    Kernel_matrices.append(model1.kernel_list[i](X_train, X_train))\n",
    "    \n",
    "Kernel_matrix = torch.zeros_like(Kernel_matrices[0])\n",
    "for i in range(len(model1.kernel_list)):\n",
    "    Kernel_matrix += wv[i] * Kernel_matrices[i]"
   ]
  },
  {
   "cell_type": "code",
   "execution_count": 13,
   "metadata": {},
   "outputs": [
    {
     "data": {
      "text/plain": [
       "tensor([[ 1.0467e+00,  7.5282e-01,  7.0903e-01,  ...,  4.5829e-01,\n",
       "          5.8240e-01,  7.6881e-02],\n",
       "        [ 7.5282e-01,  1.0467e+00,  8.7165e-01,  ...,  9.3803e-02,\n",
       "          2.0256e-01,  4.0072e-01],\n",
       "        [ 7.0903e-01,  8.7165e-01,  1.0467e+00,  ..., -6.4409e-01,\n",
       "         -4.5183e-01, -1.8158e-01],\n",
       "        ...,\n",
       "        [ 4.5829e-01,  9.3803e-02, -6.4409e-01,  ...,  9.3829e+02,\n",
       "          6.3643e+02,  1.8761e+02],\n",
       "        [ 5.8240e-01,  2.0256e-01, -4.5183e-01,  ...,  6.3643e+02,\n",
       "          7.8964e+02,  1.5946e+02],\n",
       "        [ 7.6881e-02,  4.0072e-01, -1.8158e-01,  ...,  1.8761e+02,\n",
       "          1.5946e+02,  2.1246e+02]], dtype=torch.float64,\n",
       "       grad_fn=<AddBackward0>)"
      ]
     },
     "execution_count": 13,
     "metadata": {},
     "output_type": "execute_result"
    }
   ],
   "source": [
    "Kernel_matrix"
   ]
  }
 ],
 "metadata": {
  "kernelspec": {
   "display_name": "base",
   "language": "python",
   "name": "python3"
  },
  "language_info": {
   "codemirror_mode": {
    "name": "ipython",
    "version": 3
   },
   "file_extension": ".py",
   "mimetype": "text/x-python",
   "name": "python",
   "nbconvert_exporter": "python",
   "pygments_lexer": "ipython3",
   "version": "3.8.5"
  },
  "orig_nbformat": 4
 },
 "nbformat": 4,
 "nbformat_minor": 2
}
